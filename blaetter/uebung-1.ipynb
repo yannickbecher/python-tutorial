{
 "cells": [
  {
   "metadata": {},
   "cell_type": "markdown",
   "source": "# Übungsblatt 1: Grundlagen",
   "id": "a4252e693fe7fba9"
  },
  {
   "metadata": {},
   "cell_type": "markdown",
   "source": "#### *A1: Gib den Text “Hallo Welt” aus (print-Funktion!)*",
   "id": "b6b0f1d199f04c26"
  },
  {
   "metadata": {},
   "cell_type": "markdown",
   "source": [
    "Wir nutzen die `print()`-Funktion. Funktionen sind charakterisiert durch Klammern `()` am Ende. Innerhalb der \n",
    "Klammern können so genannte Argumente stehen, also Daten, die der Funktion übergeben werden, mit denen sie was \n",
    "anfangen kann.\n",
    "\n",
    "Die `print()`-Funktion verlangt mindestens ein Argument (z.B. Strings, Integers, Floats, etc.), das ihr innerhalb der\n",
    " Klammern übergeben wird. \n",
    " \n",
    "Beachte: Strings beginnen und enden immer mit `\"` (U+0022). Dieses findet ihr auf eurer Tastatur. Andere \n",
    "Anführungszeichen funktionieren nicht."
   ],
   "id": "f80d94859a9bba4e"
  },
  {
   "metadata": {
    "ExecuteTime": {
     "end_time": "2024-11-15T21:13:22.119160Z",
     "start_time": "2024-11-15T21:13:22.106034Z"
    }
   },
   "cell_type": "code",
   "source": "print(\"Hallo Welt\")",
   "id": "b5ad6572ef596e37",
   "outputs": [
    {
     "name": "stdout",
     "output_type": "stream",
     "text": [
      "Hallo Welt\n"
     ]
    }
   ],
   "execution_count": 19
  },
  {
   "metadata": {},
   "cell_type": "markdown",
   "source": "---",
   "id": "e3b723804b4e93c2"
  },
  {
   "metadata": {},
   "cell_type": "markdown",
   "source": "#### *A2: Hänge zwei Strings (=Buchstabenketten/Wörter) aneinander (z.B. „Wort“ und „eins“)*",
   "id": "cffab89ba8707691"
  },
  {
   "metadata": {},
   "cell_type": "markdown",
   "source": [
    "Strings können mithilfe von `+`aneinandergefügt werden.\n",
    "\n",
    "Es lassen sich auch mehrere Strings aneinanderfügen. Andere Datentypen lassen sich ohne Konvertierung nicht an \n",
    "Strings anfügen."
   ],
   "id": "667da4cddc7fcf1c"
  },
  {
   "metadata": {
    "ExecuteTime": {
     "end_time": "2024-11-15T21:13:22.302260Z",
     "start_time": "2024-11-15T21:13:22.287328Z"
    }
   },
   "cell_type": "code",
   "source": "\"Wort\" + \"eins\"     # \"Worteins\"",
   "id": "76f269c7c0cd7610",
   "outputs": [
    {
     "data": {
      "text/plain": [
       "'Worteins'"
      ]
     },
     "execution_count": 20,
     "metadata": {},
     "output_type": "execute_result"
    }
   ],
   "execution_count": 20
  },
  {
   "metadata": {},
   "cell_type": "markdown",
   "source": "---",
   "id": "7e8e08c119fce697"
  },
  {
   "metadata": {},
   "cell_type": "markdown",
   "source": "#### *A3: Gib den Text „Es geht los mit Python!“ 4x hintereinander aus. Hinweis: Mit etwas probieren geht das sehr schnell, ohne den Text 4x zu kopieren!*",
   "id": "896caf5d49e94483"
  },
  {
   "metadata": {},
   "cell_type": "markdown",
   "source": [
    "Die ```print()```-Funktion vier mal hintereinander mit dem jeweiligen Text auszuführen ist möglich, doch \n",
    "als Coder*innen eine Schande. Es gibt bessere Wege. \n",
    "\n",
    "Die erste Möglichkeit beruht darauf, dass ```print()``` mehr als nur ein Argument besitzen kann. Tatsächlich können \n",
    "unbegrenzt Argumente übergeben werden. Sie werde durch Kommatas (`,`) voneinander abgetrennt. Ein Leerzeichen wird \n",
    "automatisch zwischen den Strings eingefügt."
   ],
   "id": "c843e6fa0d8807d7"
  },
  {
   "metadata": {
    "ExecuteTime": {
     "end_time": "2024-11-15T21:13:22.556062Z",
     "start_time": "2024-11-15T21:13:22.533346Z"
    }
   },
   "cell_type": "code",
   "source": "print(\"Es geht los mit Python!\", \"Es geht los mit Python!\", \"Es geht los mit Python!\", \"Es geht los mit Python!\")",
   "id": "70b3b3363eb4e2f6",
   "outputs": [
    {
     "name": "stdout",
     "output_type": "stream",
     "text": [
      "Es geht los mit Python! Es geht los mit Python! Es geht los mit Python! Es geht los mit Python!\n"
     ]
    }
   ],
   "execution_count": 21
  },
  {
   "metadata": {},
   "cell_type": "markdown",
   "source": [
    "Es gibt allerdings noch einen viel schöneren Weg mit weniger Schreibaufwand. Hierfür benötigt man Schleifen. Diese \n",
    "kommen später in den Übungen. Die Lösung mit solch einer Schleife sieht inwiefolgt aus:"
   ],
   "id": "2def0b72c654cc76"
  },
  {
   "metadata": {
    "ExecuteTime": {
     "end_time": "2024-11-15T21:13:22.753947Z",
     "start_time": "2024-11-15T21:13:22.745598Z"
    }
   },
   "cell_type": "code",
   "source": [
    "for i in range(4):\n",
    "    print(\"Es geht los mit Python!\")"
   ],
   "id": "6ded6d664395d624",
   "outputs": [
    {
     "name": "stdout",
     "output_type": "stream",
     "text": [
      "Es geht los mit Python!\n",
      "Es geht los mit Python!\n",
      "Es geht los mit Python!\n",
      "Es geht los mit Python!\n"
     ]
    }
   ],
   "execution_count": 22
  },
  {
   "metadata": {},
   "cell_type": "markdown",
   "source": [
    "Wir laufen vier mal das Innere des `for`-Blocks ab und führen so den `print()` Befehl vier mal aus. Genauere \n",
    "Erklärung bei den dafür vorhergesehenen Aufgaben."
   ],
   "id": "7f55bb73c12fc2d6"
  },
  {
   "metadata": {},
   "cell_type": "markdown",
   "source": "---",
   "id": "8cdc29e6dc1c90eb"
  },
  {
   "metadata": {},
   "cell_type": "markdown",
   "source": [
    "#### *A4 Schreibe ein Programm, das den Quotient von 4321 und 1234 berechnet und ausgibt (=Division, „Geteilt durch“).*\n",
    "\n"
   ],
   "id": "4b598c5a452b4e90"
  },
  {
   "metadata": {},
   "cell_type": "markdown",
   "source": "Der Divisionsoperator ist ein `/`. Es handelt sich um die klassische Division.",
   "id": "873135cdf82ce145"
  },
  {
   "metadata": {
    "ExecuteTime": {
     "end_time": "2024-11-15T21:13:22.939588Z",
     "start_time": "2024-11-15T21:13:22.926937Z"
    }
   },
   "cell_type": "code",
   "source": [
    "result = 4321 / 1234\n",
    "print(result)"
   ],
   "id": "92a77002b0eec898",
   "outputs": [
    {
     "name": "stdout",
     "output_type": "stream",
     "text": [
      "3.5016207455429496\n"
     ]
    }
   ],
   "execution_count": 23
  },
  {
   "metadata": {},
   "cell_type": "markdown",
   "source": "---",
   "id": "e49d6b4a314ef654"
  },
  {
   "metadata": {},
   "cell_type": "markdown",
   "source": "#### *A5: Prüfe, ob das Ergebnis aus Aufgabe A4 durch 2 teilbar ist. Hinweis: Mit welchem Rechenzeichen geht das in Python ganz einfach?*",
   "id": "dacc84aacc4c1cf2"
  },
  {
   "metadata": {},
   "cell_type": "markdown",
   "source": [
    "Um zu Überprüfen, ob eine Zahl durch zwei teilbar ist, benötigt man den Rest der ganzzahligen Divison dieser Zahl \n",
    "geteilt durch zwei. Den Rest bestimmt man mit dem *Modulo*-Operator `%`.\n",
    "\n",
    "Im folgenden wird der *If-Else-Block* verwendet. Genaueres hierzu im Übungsblatt 3 und 4."
   ],
   "id": "c3921b08575c72ec"
  },
  {
   "metadata": {
    "ExecuteTime": {
     "end_time": "2024-11-15T21:13:23.030089Z",
     "start_time": "2024-11-15T21:13:23.018032Z"
    }
   },
   "cell_type": "code",
   "source": [
    "number = 4321 // 1234                   # Ganzzahlige Division (siehe Anmerkung unten)\n",
    "remainder = number % 2                  # Rest der ganzzahligen Division (entweder 0 oder 1)\n",
    "print(remainder)                        # Ausgabe des Rest\n",
    "\n",
    "if remainder == 0:                      # Überprüfe, ob Rest gleich 0 ist\n",
    "    print(\"Die Zahl ist gerade.\")\n",
    "else:\n",
    "    print(\"Die Zahl ist ungerade.\")"
   ],
   "id": "f5090acbb78bb887",
   "outputs": [
    {
     "name": "stdout",
     "output_type": "stream",
     "text": [
      "1\n",
      "Die Zahl ist ungerade.\n"
     ]
    }
   ],
   "execution_count": 24
  },
  {
   "metadata": {},
   "cell_type": "markdown",
   "source": [
    "Es ist wichtig zu sehen, dass der Rest einer Division nur Sinn ergibt, wenn der Divident ganzzahlig ist. Aus diesem \n",
    "Grund muss hier für das Ergebnis `number` ganzzahlige Division (`//`) genutzt werden und nicht die einfache Division wie\n",
    " in Aufgabe A4."
   ],
   "id": "51fd3bd524839d1c"
  },
  {
   "metadata": {},
   "cell_type": "markdown",
   "source": "---",
   "id": "a78301156268c3a"
  },
  {
   "metadata": {},
   "cell_type": "markdown",
   "source": "#### *A6: Schreibe ein Programm, das das Produkt von 17 und 4 ausrechnet und ausgibt (= Multiplikation, „Mal-nehmen“).*",
   "id": "639f73d6dbcb0fda"
  },
  {
   "metadata": {},
   "cell_type": "markdown",
   "source": "Multiplikation zweier Zahlen erfolgt mit `*`. Die Reihenfolge der beiden Faktoren ist unbedeutend (Kommutativität).\n",
   "id": "44ddc41c89ba9fb8"
  },
  {
   "metadata": {
    "ExecuteTime": {
     "end_time": "2024-11-15T21:13:23.274867Z",
     "start_time": "2024-11-15T21:13:23.266396Z"
    }
   },
   "cell_type": "code",
   "source": [
    "result = 17 * 4\n",
    "print(result)"
   ],
   "id": "7a337c7902398daf",
   "outputs": [
    {
     "name": "stdout",
     "output_type": "stream",
     "text": [
      "68\n"
     ]
    }
   ],
   "execution_count": 25
  },
  {
   "metadata": {},
   "cell_type": "markdown",
   "source": "---",
   "id": "626656eee55ca003"
  },
  {
   "metadata": {},
   "cell_type": "markdown",
   "source": "#### *A7: Prüfe, ob das Ergebnis aus Aufgabe A6 durch 12 teilbar ist.*",
   "id": "e4d2ccbc0ba16851"
  },
  {
   "metadata": {},
   "cell_type": "markdown",
   "source": [
    "Parallel zu Aufgabe A5 können wir feststellen, dass eine Zahl durch zwölf teilbar ist, genau dann wenn der Rest der \n",
    "Zahl \n",
    "modulo zwölf gleich null ist. Wir greifen auf das Ergebnis `result` aus Aufgabe A6 zu."
   ],
   "id": "4615c396f5759dd1"
  },
  {
   "metadata": {
    "ExecuteTime": {
     "end_time": "2024-11-15T21:13:23.518897Z",
     "start_time": "2024-11-15T21:13:23.508763Z"
    }
   },
   "cell_type": "code",
   "source": [
    "remainder = result % 12         # Rest des Ergebnisses geteilt durch 12\n",
    "print(remainder)                # Ausgabe des Rest\n",
    "\n",
    "if remainder == 0:              # Überprüfe, ob Rest gleich 0 ist\n",
    "    print(\"Ergebnis ist durch 12 teilbar.\")\n",
    "else:\n",
    "    print(\"Ergebnis ist nicht durch 12 teilbar.\")"
   ],
   "id": "b63ab59e7247cd10",
   "outputs": [
    {
     "name": "stdout",
     "output_type": "stream",
     "text": [
      "8\n",
      "Ergebnis ist nicht durch 12 teilbar.\n"
     ]
    }
   ],
   "execution_count": 26
  },
  {
   "metadata": {},
   "cell_type": "markdown",
   "source": "---",
   "id": "1d0d643cd13de21a"
  },
  {
   "metadata": {},
   "cell_type": "markdown",
   "source": "#### *A8: Eine Gruppe mit 25 Kindern will mit der Informatik-Lehrerin Eis essen gehen. Ein Eis kostet 2,80 €. Die Lehrerin hat 87 € dabei, sie selbst möchte kein Eis. Reicht das Geld? Hilf der Lehrerin und schreibe ein Programm, Rechne aus, wieviel Geld das Eis für alle Kinder zusammen kostet und ob das Geld, das die Lehrerin dabei hat, reicht. Gib mit dem Print-Befehl den Restbetrag aus (also wieviel Geld derLehrkraft übrigbleibt). Hinweis: Python ist ein englisches Programm. Deshalb musst du KommaZahlen anders schreiben - nicht mit einem Komma, sondern mit einem Punkt. 4,80 € musst du also als 4.80 eingeben!*",
   "id": "12f2ccd0fe5b584b"
  },
  {
   "metadata": {},
   "cell_type": "markdown",
   "source": [
    "Wir definieren zunächst alle Variablen `children` für die Anzahl der Kinder, `price` für den Preis einer Kugel Eis und\n",
    "`max_cash` für den maximalen Betrag an Geld, den die Lehrerin mit hat, also die 87 Euro. Dies dient allein zur \n",
    "Übersichtlichkeit und besitzt den Vorteil, dass man so recht schnell die Werte der Variablen verändern kann.\n",
    "\n",
    "Als nächstes berechnen wir den Gesamtpreis für alle Kinder und speichern diesen in einer Variable `total`. Diese geben wir aus. Die Ausgabe erfolgt wie in A3 beschrieben über zwei Argumente mit `print()`. \n",
    "\n",
    "Im *If-Else-Block* wird überprüft, ob der Gesamtpreis den maximalen Preis übersteigt. Das Resultat wird \n",
    "wieder ausgegeben. Im Fall, dass die Lehrerin genug Geld mit hat, wird außerdem das Rückgeld berechnet.\n",
    "\n",
    "Wichtig zu erwähnen ist, dass Kommazahlen in Python (wie auch bei anderen Programmiersprachen) mit Punkt (`.`) \n",
    "dargestellt  werden und nicht wie im Deutschen mit einem Komma. Kommas werden u.a. zur Abtrennung von Argumenten bzw. \n",
    "Parametern von Funktionen genutzt.\n"
   ],
   "id": "cd842ae6701f9ab6"
  },
  {
   "metadata": {
    "ExecuteTime": {
     "end_time": "2024-11-15T21:13:23.730388Z",
     "start_time": "2024-11-15T21:13:23.720141Z"
    }
   },
   "cell_type": "code",
   "source": [
    "children = 25                           # Anzahl Kinder\n",
    "price = 2.8                             # Preis pro Kugel\n",
    "max_cash = 87                           # Bargeld? dabei\n",
    "total = children * price                # Preis für alle Kinder\n",
    "\n",
    "print(\"Total:\", total)                  # Ausgabe Preis gesamt    \n",
    "\n",
    "if total > max_cash:                    # Überprüfe, ob Gesamtkosten die 87 € übersteigen\n",
    "    print(\"Die Lehrerin hat zu wenig Geld dabei.\")\n",
    "else:\n",
    "    print(\"Die Lehrerin hat genug Geld dabei und bekommt\", max_cash - total, \"Euro zurück.\")"
   ],
   "id": "73c47ebe80732d69",
   "outputs": [
    {
     "name": "stdout",
     "output_type": "stream",
     "text": [
      "Total: 70.0\n",
      "Die Lehrerin hat genug Geld dabei und bekommt 17.0 Euro zurück.\n"
     ]
    }
   ],
   "execution_count": 27
  }
 ],
 "metadata": {
  "kernelspec": {
   "display_name": "Python 3",
   "language": "python",
   "name": "python3"
  },
  "language_info": {
   "codemirror_mode": {
    "name": "ipython",
    "version": 2
   },
   "file_extension": ".py",
   "mimetype": "text/x-python",
   "name": "python",
   "nbconvert_exporter": "python",
   "pygments_lexer": "ipython2",
   "version": "2.7.6"
  }
 },
 "nbformat": 4,
 "nbformat_minor": 5
}
